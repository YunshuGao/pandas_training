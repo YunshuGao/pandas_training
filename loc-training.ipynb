{
 "cells": [
  {
   "cell_type": "code",
   "execution_count": 7,
   "metadata": {
    "collapsed": true
   },
   "outputs": [],
   "source": [
    "import random\n",
    "import numpy as np\n",
    "import pandas as pd\n",
    "import geopandas as gpd\n",
    "import matplotlib.pyplot as plt"
   ]
  },
  {
   "cell_type": "code",
   "execution_count": 2,
   "outputs": [],
   "source": [
    "df=pd.read_csv(r'D:\\GaoYunshu2023\\100011 HK-Work\\RA-project\\008 Pandas training\\uk.csv')"
   ],
   "metadata": {
    "collapsed": false
   }
  },
  {
   "cell_type": "code",
   "execution_count": 3,
   "outputs": [
    {
     "data": {
      "text/plain": "  first_name   last_name             company_name            address  \\\n0    Aleshia  Tomkiewicz  Alan D Rosenburg Cpa Pc       14 Taylor St   \n1       Evan   Zigomalas       Cap Gemini America        5 Binney St   \n2     France     Andrade      Elliott, John W Esq       8 Moor Place   \n3    Ulysses   Mcwalters           Mcmahan, Ben L      505 Exeter Rd   \n4     Tyisha      Veness           Champagne Room  5396 Forth Street   \n\n                             city           county    postal        phone1  \\\n0               St. Stephens Ward             Kent   CT2 7PP  01835-703597   \n1                      Abbey Ward  Buckinghamshire  HP11 2AX  01937-864715   \n2  East Southbourne and Tuckton W      Bournemouth   BH6 3BE  01347-368222   \n3              Hawerby cum Beesby     Lincolnshire  DN36 5RP  01912-771311   \n4      Greets Green and Lyng Ward    West Midlands   B70 9DT  01547-429341   \n\n         phone2                       email  \\\n0  01944-369967     atomkiewicz@hotmail.com   \n1  01714-737668    evan.zigomalas@gmail.com   \n2  01935-821636  france.andrade@hotmail.com   \n3  01302-601380         ulysses@hotmail.com   \n4  01290-367248   tyisha.veness@hotmail.com   \n\n                                    web  \n0  http://www.alandrosenburgcpapc.co.uk  \n1     http://www.capgeminiamerica.co.uk  \n2      http://www.elliottjohnwesq.co.uk  \n3          http://www.mcmahanbenl.co.uk  \n4        http://www.champagneroom.co.uk  ",
      "text/html": "<div>\n<style scoped>\n    .dataframe tbody tr th:only-of-type {\n        vertical-align: middle;\n    }\n\n    .dataframe tbody tr th {\n        vertical-align: top;\n    }\n\n    .dataframe thead th {\n        text-align: right;\n    }\n</style>\n<table border=\"1\" class=\"dataframe\">\n  <thead>\n    <tr style=\"text-align: right;\">\n      <th></th>\n      <th>first_name</th>\n      <th>last_name</th>\n      <th>company_name</th>\n      <th>address</th>\n      <th>city</th>\n      <th>county</th>\n      <th>postal</th>\n      <th>phone1</th>\n      <th>phone2</th>\n      <th>email</th>\n      <th>web</th>\n    </tr>\n  </thead>\n  <tbody>\n    <tr>\n      <th>0</th>\n      <td>Aleshia</td>\n      <td>Tomkiewicz</td>\n      <td>Alan D Rosenburg Cpa Pc</td>\n      <td>14 Taylor St</td>\n      <td>St. Stephens Ward</td>\n      <td>Kent</td>\n      <td>CT2 7PP</td>\n      <td>01835-703597</td>\n      <td>01944-369967</td>\n      <td>atomkiewicz@hotmail.com</td>\n      <td>http://www.alandrosenburgcpapc.co.uk</td>\n    </tr>\n    <tr>\n      <th>1</th>\n      <td>Evan</td>\n      <td>Zigomalas</td>\n      <td>Cap Gemini America</td>\n      <td>5 Binney St</td>\n      <td>Abbey Ward</td>\n      <td>Buckinghamshire</td>\n      <td>HP11 2AX</td>\n      <td>01937-864715</td>\n      <td>01714-737668</td>\n      <td>evan.zigomalas@gmail.com</td>\n      <td>http://www.capgeminiamerica.co.uk</td>\n    </tr>\n    <tr>\n      <th>2</th>\n      <td>France</td>\n      <td>Andrade</td>\n      <td>Elliott, John W Esq</td>\n      <td>8 Moor Place</td>\n      <td>East Southbourne and Tuckton W</td>\n      <td>Bournemouth</td>\n      <td>BH6 3BE</td>\n      <td>01347-368222</td>\n      <td>01935-821636</td>\n      <td>france.andrade@hotmail.com</td>\n      <td>http://www.elliottjohnwesq.co.uk</td>\n    </tr>\n    <tr>\n      <th>3</th>\n      <td>Ulysses</td>\n      <td>Mcwalters</td>\n      <td>Mcmahan, Ben L</td>\n      <td>505 Exeter Rd</td>\n      <td>Hawerby cum Beesby</td>\n      <td>Lincolnshire</td>\n      <td>DN36 5RP</td>\n      <td>01912-771311</td>\n      <td>01302-601380</td>\n      <td>ulysses@hotmail.com</td>\n      <td>http://www.mcmahanbenl.co.uk</td>\n    </tr>\n    <tr>\n      <th>4</th>\n      <td>Tyisha</td>\n      <td>Veness</td>\n      <td>Champagne Room</td>\n      <td>5396 Forth Street</td>\n      <td>Greets Green and Lyng Ward</td>\n      <td>West Midlands</td>\n      <td>B70 9DT</td>\n      <td>01547-429341</td>\n      <td>01290-367248</td>\n      <td>tyisha.veness@hotmail.com</td>\n      <td>http://www.champagneroom.co.uk</td>\n    </tr>\n  </tbody>\n</table>\n</div>"
     },
     "execution_count": 3,
     "metadata": {},
     "output_type": "execute_result"
    }
   ],
   "source": [
    "df.head(5)"
   ],
   "metadata": {
    "collapsed": false
   }
  },
  {
   "cell_type": "code",
   "execution_count": 4,
   "outputs": [
    {
     "data": {
      "text/plain": "    first_name   last_name                    company_name  \\\n0      Aleshia  Tomkiewicz         Alan D Rosenburg Cpa Pc   \n1         Evan   Zigomalas              Cap Gemini America   \n2       France     Andrade             Elliott, John W Esq   \n3      Ulysses   Mcwalters                  Mcmahan, Ben L   \n4       Tyisha      Veness                  Champagne Room   \n..         ...         ...                             ...   \n495      Avery        Veit      Plaza Gourmet Delicatessen   \n496       Reid     Euresti            Fitzgerald, Edward J   \n497  Charlette    Brenning              Furey & Associates   \n498  Celestina       Keeny        Bfg Federal Credit Union   \n499         Mi      Richan  Nelson Wright Haworth Golf Crs   \n\n                address                            city           county  \\\n0          14 Taylor St               St. Stephens Ward             Kent   \n1           5 Binney St                      Abbey Ward  Buckinghamshire   \n2          8 Moor Place  East Southbourne and Tuckton W      Bournemouth   \n3         505 Exeter Rd              Hawerby cum Beesby     Lincolnshire   \n4     5396 Forth Street      Greets Green and Lyng Ward    West Midlands   \n..                  ...                             ...              ...   \n495  9166 Devon St #905  Knightsbridge and Belgravia Wa   Greater London   \n496        70 Foster St        Inverness Ness-Side Ward         Highland   \n497     714 Fonthill Rd                Darton West Ward  South Yorkshire   \n498         9 Milton St                Consett North ED    County Durham   \n499     6 Norwood Grove               Tanworth-in-Arden     Warwickshire   \n\n       postal        phone1        phone2                       email  \\\n0     CT2 7PP  01835-703597  01944-369967     atomkiewicz@hotmail.com   \n1    HP11 2AX  01937-864715  01714-737668    evan.zigomalas@gmail.com   \n2     BH6 3BE  01347-368222  01935-821636  france.andrade@hotmail.com   \n3    DN36 5RP  01912-771311  01302-601380         ulysses@hotmail.com   \n4     B70 9DT  01547-429341  01290-367248   tyisha.veness@hotmail.com   \n..        ...           ...           ...                         ...   \n495  SW1W 8JY  01748-625058  01369-185737            avery@veit.co.uk   \n496   IV2 6WT  01916-963261  01370-319414      reuresti@euresti.co.uk   \n497   S75 5EJ  01888-152110  01301-312487    cbrenning@brenning.co.uk   \n498   DH8 5LP  01877-379681  01600-463475   celestina_keeny@gmail.com   \n499   B94 5RZ  01451-785624  01202-738406              mi@hotmail.com   \n\n                                             web  \n0           http://www.alandrosenburgcpapc.co.uk  \n1              http://www.capgeminiamerica.co.uk  \n2               http://www.elliottjohnwesq.co.uk  \n3                   http://www.mcmahanbenl.co.uk  \n4                 http://www.champagneroom.co.uk  \n..                                           ...  \n495    http://www.plazagourmetdelicatessen.co.uk  \n496           http://www.fitzgeraldedwardj.co.uk  \n497             http://www.fureyassociates.co.uk  \n498       http://www.bfgfederalcreditunion.co.uk  \n499  http://www.nelsonwrighthaworthgolfcrs.co.uk  \n\n[500 rows x 11 columns]",
      "text/html": "<div>\n<style scoped>\n    .dataframe tbody tr th:only-of-type {\n        vertical-align: middle;\n    }\n\n    .dataframe tbody tr th {\n        vertical-align: top;\n    }\n\n    .dataframe thead th {\n        text-align: right;\n    }\n</style>\n<table border=\"1\" class=\"dataframe\">\n  <thead>\n    <tr style=\"text-align: right;\">\n      <th></th>\n      <th>first_name</th>\n      <th>last_name</th>\n      <th>company_name</th>\n      <th>address</th>\n      <th>city</th>\n      <th>county</th>\n      <th>postal</th>\n      <th>phone1</th>\n      <th>phone2</th>\n      <th>email</th>\n      <th>web</th>\n    </tr>\n  </thead>\n  <tbody>\n    <tr>\n      <th>0</th>\n      <td>Aleshia</td>\n      <td>Tomkiewicz</td>\n      <td>Alan D Rosenburg Cpa Pc</td>\n      <td>14 Taylor St</td>\n      <td>St. Stephens Ward</td>\n      <td>Kent</td>\n      <td>CT2 7PP</td>\n      <td>01835-703597</td>\n      <td>01944-369967</td>\n      <td>atomkiewicz@hotmail.com</td>\n      <td>http://www.alandrosenburgcpapc.co.uk</td>\n    </tr>\n    <tr>\n      <th>1</th>\n      <td>Evan</td>\n      <td>Zigomalas</td>\n      <td>Cap Gemini America</td>\n      <td>5 Binney St</td>\n      <td>Abbey Ward</td>\n      <td>Buckinghamshire</td>\n      <td>HP11 2AX</td>\n      <td>01937-864715</td>\n      <td>01714-737668</td>\n      <td>evan.zigomalas@gmail.com</td>\n      <td>http://www.capgeminiamerica.co.uk</td>\n    </tr>\n    <tr>\n      <th>2</th>\n      <td>France</td>\n      <td>Andrade</td>\n      <td>Elliott, John W Esq</td>\n      <td>8 Moor Place</td>\n      <td>East Southbourne and Tuckton W</td>\n      <td>Bournemouth</td>\n      <td>BH6 3BE</td>\n      <td>01347-368222</td>\n      <td>01935-821636</td>\n      <td>france.andrade@hotmail.com</td>\n      <td>http://www.elliottjohnwesq.co.uk</td>\n    </tr>\n    <tr>\n      <th>3</th>\n      <td>Ulysses</td>\n      <td>Mcwalters</td>\n      <td>Mcmahan, Ben L</td>\n      <td>505 Exeter Rd</td>\n      <td>Hawerby cum Beesby</td>\n      <td>Lincolnshire</td>\n      <td>DN36 5RP</td>\n      <td>01912-771311</td>\n      <td>01302-601380</td>\n      <td>ulysses@hotmail.com</td>\n      <td>http://www.mcmahanbenl.co.uk</td>\n    </tr>\n    <tr>\n      <th>4</th>\n      <td>Tyisha</td>\n      <td>Veness</td>\n      <td>Champagne Room</td>\n      <td>5396 Forth Street</td>\n      <td>Greets Green and Lyng Ward</td>\n      <td>West Midlands</td>\n      <td>B70 9DT</td>\n      <td>01547-429341</td>\n      <td>01290-367248</td>\n      <td>tyisha.veness@hotmail.com</td>\n      <td>http://www.champagneroom.co.uk</td>\n    </tr>\n    <tr>\n      <th>...</th>\n      <td>...</td>\n      <td>...</td>\n      <td>...</td>\n      <td>...</td>\n      <td>...</td>\n      <td>...</td>\n      <td>...</td>\n      <td>...</td>\n      <td>...</td>\n      <td>...</td>\n      <td>...</td>\n    </tr>\n    <tr>\n      <th>495</th>\n      <td>Avery</td>\n      <td>Veit</td>\n      <td>Plaza Gourmet Delicatessen</td>\n      <td>9166 Devon St #905</td>\n      <td>Knightsbridge and Belgravia Wa</td>\n      <td>Greater London</td>\n      <td>SW1W 8JY</td>\n      <td>01748-625058</td>\n      <td>01369-185737</td>\n      <td>avery@veit.co.uk</td>\n      <td>http://www.plazagourmetdelicatessen.co.uk</td>\n    </tr>\n    <tr>\n      <th>496</th>\n      <td>Reid</td>\n      <td>Euresti</td>\n      <td>Fitzgerald, Edward J</td>\n      <td>70 Foster St</td>\n      <td>Inverness Ness-Side Ward</td>\n      <td>Highland</td>\n      <td>IV2 6WT</td>\n      <td>01916-963261</td>\n      <td>01370-319414</td>\n      <td>reuresti@euresti.co.uk</td>\n      <td>http://www.fitzgeraldedwardj.co.uk</td>\n    </tr>\n    <tr>\n      <th>497</th>\n      <td>Charlette</td>\n      <td>Brenning</td>\n      <td>Furey &amp; Associates</td>\n      <td>714 Fonthill Rd</td>\n      <td>Darton West Ward</td>\n      <td>South Yorkshire</td>\n      <td>S75 5EJ</td>\n      <td>01888-152110</td>\n      <td>01301-312487</td>\n      <td>cbrenning@brenning.co.uk</td>\n      <td>http://www.fureyassociates.co.uk</td>\n    </tr>\n    <tr>\n      <th>498</th>\n      <td>Celestina</td>\n      <td>Keeny</td>\n      <td>Bfg Federal Credit Union</td>\n      <td>9 Milton St</td>\n      <td>Consett North ED</td>\n      <td>County Durham</td>\n      <td>DH8 5LP</td>\n      <td>01877-379681</td>\n      <td>01600-463475</td>\n      <td>celestina_keeny@gmail.com</td>\n      <td>http://www.bfgfederalcreditunion.co.uk</td>\n    </tr>\n    <tr>\n      <th>499</th>\n      <td>Mi</td>\n      <td>Richan</td>\n      <td>Nelson Wright Haworth Golf Crs</td>\n      <td>6 Norwood Grove</td>\n      <td>Tanworth-in-Arden</td>\n      <td>Warwickshire</td>\n      <td>B94 5RZ</td>\n      <td>01451-785624</td>\n      <td>01202-738406</td>\n      <td>mi@hotmail.com</td>\n      <td>http://www.nelsonwrighthaworthgolfcrs.co.uk</td>\n    </tr>\n  </tbody>\n</table>\n<p>500 rows × 11 columns</p>\n</div>"
     },
     "execution_count": 4,
     "metadata": {},
     "output_type": "execute_result"
    }
   ],
   "source": [
    "df"
   ],
   "metadata": {
    "collapsed": false
   }
  },
  {
   "cell_type": "code",
   "execution_count": 8,
   "outputs": [],
   "source": [
    "# add random column id\n",
    "df['id']=[random.randint(1,1000) for x in range(df.shape[0])]"
   ],
   "metadata": {
    "collapsed": false
   }
  },
  {
   "cell_type": "code",
   "execution_count": 9,
   "outputs": [
    {
     "data": {
      "text/plain": "  first_name   last_name             company_name            address  \\\n0    Aleshia  Tomkiewicz  Alan D Rosenburg Cpa Pc       14 Taylor St   \n1       Evan   Zigomalas       Cap Gemini America        5 Binney St   \n2     France     Andrade      Elliott, John W Esq       8 Moor Place   \n3    Ulysses   Mcwalters           Mcmahan, Ben L      505 Exeter Rd   \n4     Tyisha      Veness           Champagne Room  5396 Forth Street   \n\n                             city           county    postal        phone1  \\\n0               St. Stephens Ward             Kent   CT2 7PP  01835-703597   \n1                      Abbey Ward  Buckinghamshire  HP11 2AX  01937-864715   \n2  East Southbourne and Tuckton W      Bournemouth   BH6 3BE  01347-368222   \n3              Hawerby cum Beesby     Lincolnshire  DN36 5RP  01912-771311   \n4      Greets Green and Lyng Ward    West Midlands   B70 9DT  01547-429341   \n\n         phone2                       email  \\\n0  01944-369967     atomkiewicz@hotmail.com   \n1  01714-737668    evan.zigomalas@gmail.com   \n2  01935-821636  france.andrade@hotmail.com   \n3  01302-601380         ulysses@hotmail.com   \n4  01290-367248   tyisha.veness@hotmail.com   \n\n                                    web   id  \n0  http://www.alandrosenburgcpapc.co.uk  626  \n1     http://www.capgeminiamerica.co.uk  773  \n2      http://www.elliottjohnwesq.co.uk  397  \n3          http://www.mcmahanbenl.co.uk  938  \n4        http://www.champagneroom.co.uk  162  ",
      "text/html": "<div>\n<style scoped>\n    .dataframe tbody tr th:only-of-type {\n        vertical-align: middle;\n    }\n\n    .dataframe tbody tr th {\n        vertical-align: top;\n    }\n\n    .dataframe thead th {\n        text-align: right;\n    }\n</style>\n<table border=\"1\" class=\"dataframe\">\n  <thead>\n    <tr style=\"text-align: right;\">\n      <th></th>\n      <th>first_name</th>\n      <th>last_name</th>\n      <th>company_name</th>\n      <th>address</th>\n      <th>city</th>\n      <th>county</th>\n      <th>postal</th>\n      <th>phone1</th>\n      <th>phone2</th>\n      <th>email</th>\n      <th>web</th>\n      <th>id</th>\n    </tr>\n  </thead>\n  <tbody>\n    <tr>\n      <th>0</th>\n      <td>Aleshia</td>\n      <td>Tomkiewicz</td>\n      <td>Alan D Rosenburg Cpa Pc</td>\n      <td>14 Taylor St</td>\n      <td>St. Stephens Ward</td>\n      <td>Kent</td>\n      <td>CT2 7PP</td>\n      <td>01835-703597</td>\n      <td>01944-369967</td>\n      <td>atomkiewicz@hotmail.com</td>\n      <td>http://www.alandrosenburgcpapc.co.uk</td>\n      <td>626</td>\n    </tr>\n    <tr>\n      <th>1</th>\n      <td>Evan</td>\n      <td>Zigomalas</td>\n      <td>Cap Gemini America</td>\n      <td>5 Binney St</td>\n      <td>Abbey Ward</td>\n      <td>Buckinghamshire</td>\n      <td>HP11 2AX</td>\n      <td>01937-864715</td>\n      <td>01714-737668</td>\n      <td>evan.zigomalas@gmail.com</td>\n      <td>http://www.capgeminiamerica.co.uk</td>\n      <td>773</td>\n    </tr>\n    <tr>\n      <th>2</th>\n      <td>France</td>\n      <td>Andrade</td>\n      <td>Elliott, John W Esq</td>\n      <td>8 Moor Place</td>\n      <td>East Southbourne and Tuckton W</td>\n      <td>Bournemouth</td>\n      <td>BH6 3BE</td>\n      <td>01347-368222</td>\n      <td>01935-821636</td>\n      <td>france.andrade@hotmail.com</td>\n      <td>http://www.elliottjohnwesq.co.uk</td>\n      <td>397</td>\n    </tr>\n    <tr>\n      <th>3</th>\n      <td>Ulysses</td>\n      <td>Mcwalters</td>\n      <td>Mcmahan, Ben L</td>\n      <td>505 Exeter Rd</td>\n      <td>Hawerby cum Beesby</td>\n      <td>Lincolnshire</td>\n      <td>DN36 5RP</td>\n      <td>01912-771311</td>\n      <td>01302-601380</td>\n      <td>ulysses@hotmail.com</td>\n      <td>http://www.mcmahanbenl.co.uk</td>\n      <td>938</td>\n    </tr>\n    <tr>\n      <th>4</th>\n      <td>Tyisha</td>\n      <td>Veness</td>\n      <td>Champagne Room</td>\n      <td>5396 Forth Street</td>\n      <td>Greets Green and Lyng Ward</td>\n      <td>West Midlands</td>\n      <td>B70 9DT</td>\n      <td>01547-429341</td>\n      <td>01290-367248</td>\n      <td>tyisha.veness@hotmail.com</td>\n      <td>http://www.champagneroom.co.uk</td>\n      <td>162</td>\n    </tr>\n  </tbody>\n</table>\n</div>"
     },
     "execution_count": 9,
     "metadata": {},
     "output_type": "execute_result"
    }
   ],
   "source": [
    "df.head(5)"
   ],
   "metadata": {
    "collapsed": false
   }
  },
  {
   "cell_type": "code",
   "execution_count": 11,
   "outputs": [
    {
     "data": {
      "text/plain": "first_name                                   Aleshia\nlast_name                                 Tomkiewicz\ncompany_name                 Alan D Rosenburg Cpa Pc\naddress                                 14 Taylor St\ncity                               St. Stephens Ward\ncounty                                          Kent\npostal                                       CT2 7PP\nphone1                                  01835-703597\nphone2                                  01944-369967\nemail                        atomkiewicz@hotmail.com\nweb             http://www.alandrosenburgcpapc.co.uk\nid                                               626\nName: 0, dtype: object"
     },
     "execution_count": 11,
     "metadata": {},
     "output_type": "execute_result"
    }
   ],
   "source": [
    "# select a single colunmn or raw\n",
    "df.iloc[0]"
   ],
   "metadata": {
    "collapsed": false
   }
  },
  {
   "cell_type": "code",
   "execution_count": 12,
   "outputs": [
    {
     "data": {
      "text/plain": "first_name                                               Mi\nlast_name                                            Richan\ncompany_name                 Nelson Wright Haworth Golf Crs\naddress                                     6 Norwood Grove\ncity                                      Tanworth-in-Arden\ncounty                                         Warwickshire\npostal                                              B94 5RZ\nphone1                                         01451-785624\nphone2                                         01202-738406\nemail                                        mi@hotmail.com\nweb             http://www.nelsonwrighthaworthgolfcrs.co.uk\nid                                                      662\nName: 499, dtype: object"
     },
     "execution_count": 12,
     "metadata": {},
     "output_type": "execute_result"
    }
   ],
   "source": [
    "df.iloc[-1]"
   ],
   "metadata": {
    "collapsed": false
   }
  },
  {
   "cell_type": "code",
   "execution_count": 13,
   "outputs": [
    {
     "data": {
      "text/plain": "0        Aleshia\n1           Evan\n2         France\n3        Ulysses\n4         Tyisha\n         ...    \n495        Avery\n496         Reid\n497    Charlette\n498    Celestina\n499           Mi\nName: first_name, Length: 500, dtype: object"
     },
     "execution_count": 13,
     "metadata": {},
     "output_type": "execute_result"
    }
   ],
   "source": [
    "df.iloc[:,0]"
   ],
   "metadata": {
    "collapsed": false
   }
  },
  {
   "cell_type": "code",
   "execution_count": 14,
   "outputs": [
    {
     "data": {
      "text/plain": "0      626\n1      773\n2      397\n3      938\n4      162\n      ... \n495    791\n496    727\n497    998\n498    743\n499    662\nName: id, Length: 500, dtype: int64"
     },
     "execution_count": 14,
     "metadata": {},
     "output_type": "execute_result"
    }
   ],
   "source": [
    "df.iloc[:,-1]"
   ],
   "metadata": {
    "collapsed": false
   }
  },
  {
   "cell_type": "code",
   "execution_count": 15,
   "outputs": [
    {
     "data": {
      "text/plain": "  first_name   last_name             company_name       address  \\\n0    Aleshia  Tomkiewicz  Alan D Rosenburg Cpa Pc  14 Taylor St   \n1       Evan   Zigomalas       Cap Gemini America   5 Binney St   \n2     France     Andrade      Elliott, John W Esq  8 Moor Place   \n\n                             city           county    postal        phone1  \\\n0               St. Stephens Ward             Kent   CT2 7PP  01835-703597   \n1                      Abbey Ward  Buckinghamshire  HP11 2AX  01937-864715   \n2  East Southbourne and Tuckton W      Bournemouth   BH6 3BE  01347-368222   \n\n         phone2                       email  \\\n0  01944-369967     atomkiewicz@hotmail.com   \n1  01714-737668    evan.zigomalas@gmail.com   \n2  01935-821636  france.andrade@hotmail.com   \n\n                                    web   id  \n0  http://www.alandrosenburgcpapc.co.uk  626  \n1     http://www.capgeminiamerica.co.uk  773  \n2      http://www.elliottjohnwesq.co.uk  397  ",
      "text/html": "<div>\n<style scoped>\n    .dataframe tbody tr th:only-of-type {\n        vertical-align: middle;\n    }\n\n    .dataframe tbody tr th {\n        vertical-align: top;\n    }\n\n    .dataframe thead th {\n        text-align: right;\n    }\n</style>\n<table border=\"1\" class=\"dataframe\">\n  <thead>\n    <tr style=\"text-align: right;\">\n      <th></th>\n      <th>first_name</th>\n      <th>last_name</th>\n      <th>company_name</th>\n      <th>address</th>\n      <th>city</th>\n      <th>county</th>\n      <th>postal</th>\n      <th>phone1</th>\n      <th>phone2</th>\n      <th>email</th>\n      <th>web</th>\n      <th>id</th>\n    </tr>\n  </thead>\n  <tbody>\n    <tr>\n      <th>0</th>\n      <td>Aleshia</td>\n      <td>Tomkiewicz</td>\n      <td>Alan D Rosenburg Cpa Pc</td>\n      <td>14 Taylor St</td>\n      <td>St. Stephens Ward</td>\n      <td>Kent</td>\n      <td>CT2 7PP</td>\n      <td>01835-703597</td>\n      <td>01944-369967</td>\n      <td>atomkiewicz@hotmail.com</td>\n      <td>http://www.alandrosenburgcpapc.co.uk</td>\n      <td>626</td>\n    </tr>\n    <tr>\n      <th>1</th>\n      <td>Evan</td>\n      <td>Zigomalas</td>\n      <td>Cap Gemini America</td>\n      <td>5 Binney St</td>\n      <td>Abbey Ward</td>\n      <td>Buckinghamshire</td>\n      <td>HP11 2AX</td>\n      <td>01937-864715</td>\n      <td>01714-737668</td>\n      <td>evan.zigomalas@gmail.com</td>\n      <td>http://www.capgeminiamerica.co.uk</td>\n      <td>773</td>\n    </tr>\n    <tr>\n      <th>2</th>\n      <td>France</td>\n      <td>Andrade</td>\n      <td>Elliott, John W Esq</td>\n      <td>8 Moor Place</td>\n      <td>East Southbourne and Tuckton W</td>\n      <td>Bournemouth</td>\n      <td>BH6 3BE</td>\n      <td>01347-368222</td>\n      <td>01935-821636</td>\n      <td>france.andrade@hotmail.com</td>\n      <td>http://www.elliottjohnwesq.co.uk</td>\n      <td>397</td>\n    </tr>\n  </tbody>\n</table>\n</div>"
     },
     "execution_count": 15,
     "metadata": {},
     "output_type": "execute_result"
    }
   ],
   "source": [
    "# select a few rows or columns\n",
    "df.iloc[0:3] # select raw 1 through raw 3"
   ],
   "metadata": {
    "collapsed": false
   }
  },
  {
   "cell_type": "code",
   "execution_count": 16,
   "outputs": [
    {
     "data": {
      "text/plain": "    first_name   last_name                    company_name\n0      Aleshia  Tomkiewicz         Alan D Rosenburg Cpa Pc\n1         Evan   Zigomalas              Cap Gemini America\n2       France     Andrade             Elliott, John W Esq\n3      Ulysses   Mcwalters                  Mcmahan, Ben L\n4       Tyisha      Veness                  Champagne Room\n..         ...         ...                             ...\n495      Avery        Veit      Plaza Gourmet Delicatessen\n496       Reid     Euresti            Fitzgerald, Edward J\n497  Charlette    Brenning              Furey & Associates\n498  Celestina       Keeny        Bfg Federal Credit Union\n499         Mi      Richan  Nelson Wright Haworth Golf Crs\n\n[500 rows x 3 columns]",
      "text/html": "<div>\n<style scoped>\n    .dataframe tbody tr th:only-of-type {\n        vertical-align: middle;\n    }\n\n    .dataframe tbody tr th {\n        vertical-align: top;\n    }\n\n    .dataframe thead th {\n        text-align: right;\n    }\n</style>\n<table border=\"1\" class=\"dataframe\">\n  <thead>\n    <tr style=\"text-align: right;\">\n      <th></th>\n      <th>first_name</th>\n      <th>last_name</th>\n      <th>company_name</th>\n    </tr>\n  </thead>\n  <tbody>\n    <tr>\n      <th>0</th>\n      <td>Aleshia</td>\n      <td>Tomkiewicz</td>\n      <td>Alan D Rosenburg Cpa Pc</td>\n    </tr>\n    <tr>\n      <th>1</th>\n      <td>Evan</td>\n      <td>Zigomalas</td>\n      <td>Cap Gemini America</td>\n    </tr>\n    <tr>\n      <th>2</th>\n      <td>France</td>\n      <td>Andrade</td>\n      <td>Elliott, John W Esq</td>\n    </tr>\n    <tr>\n      <th>3</th>\n      <td>Ulysses</td>\n      <td>Mcwalters</td>\n      <td>Mcmahan, Ben L</td>\n    </tr>\n    <tr>\n      <th>4</th>\n      <td>Tyisha</td>\n      <td>Veness</td>\n      <td>Champagne Room</td>\n    </tr>\n    <tr>\n      <th>...</th>\n      <td>...</td>\n      <td>...</td>\n      <td>...</td>\n    </tr>\n    <tr>\n      <th>495</th>\n      <td>Avery</td>\n      <td>Veit</td>\n      <td>Plaza Gourmet Delicatessen</td>\n    </tr>\n    <tr>\n      <th>496</th>\n      <td>Reid</td>\n      <td>Euresti</td>\n      <td>Fitzgerald, Edward J</td>\n    </tr>\n    <tr>\n      <th>497</th>\n      <td>Charlette</td>\n      <td>Brenning</td>\n      <td>Furey &amp; Associates</td>\n    </tr>\n    <tr>\n      <th>498</th>\n      <td>Celestina</td>\n      <td>Keeny</td>\n      <td>Bfg Federal Credit Union</td>\n    </tr>\n    <tr>\n      <th>499</th>\n      <td>Mi</td>\n      <td>Richan</td>\n      <td>Nelson Wright Haworth Golf Crs</td>\n    </tr>\n  </tbody>\n</table>\n<p>500 rows × 3 columns</p>\n</div>"
     },
     "execution_count": 16,
     "metadata": {},
     "output_type": "execute_result"
    }
   ],
   "source": [
    "df.iloc[:,0:3] # select column 1 through column 3"
   ],
   "metadata": {
    "collapsed": false
   }
  },
  {
   "cell_type": "code",
   "execution_count": 17,
   "outputs": [
    {
     "data": {
      "text/plain": "         address        county\n0   14 Taylor St          Kent\n3  505 Exeter Rd  Lincolnshire",
      "text/html": "<div>\n<style scoped>\n    .dataframe tbody tr th:only-of-type {\n        vertical-align: middle;\n    }\n\n    .dataframe tbody tr th {\n        vertical-align: top;\n    }\n\n    .dataframe thead th {\n        text-align: right;\n    }\n</style>\n<table border=\"1\" class=\"dataframe\">\n  <thead>\n    <tr style=\"text-align: right;\">\n      <th></th>\n      <th>address</th>\n      <th>county</th>\n    </tr>\n  </thead>\n  <tbody>\n    <tr>\n      <th>0</th>\n      <td>14 Taylor St</td>\n      <td>Kent</td>\n    </tr>\n    <tr>\n      <th>3</th>\n      <td>505 Exeter Rd</td>\n      <td>Lincolnshire</td>\n    </tr>\n  </tbody>\n</table>\n</div>"
     },
     "execution_count": 17,
     "metadata": {},
     "output_type": "execute_result"
    }
   ],
   "source": [
    "df.iloc[[0,3],[3,5]] # select the data from row1 and row4, and column3 and 5"
   ],
   "metadata": {
    "collapsed": false
   }
  },
  {
   "cell_type": "code",
   "execution_count": 18,
   "outputs": [
    {
     "data": {
      "text/plain": "              company_name       address\n0  Alan D Rosenburg Cpa Pc  14 Taylor St\n1       Cap Gemini America   5 Binney St\n2      Elliott, John W Esq  8 Moor Place",
      "text/html": "<div>\n<style scoped>\n    .dataframe tbody tr th:only-of-type {\n        vertical-align: middle;\n    }\n\n    .dataframe tbody tr th {\n        vertical-align: top;\n    }\n\n    .dataframe thead th {\n        text-align: right;\n    }\n</style>\n<table border=\"1\" class=\"dataframe\">\n  <thead>\n    <tr style=\"text-align: right;\">\n      <th></th>\n      <th>company_name</th>\n      <th>address</th>\n    </tr>\n  </thead>\n  <tbody>\n    <tr>\n      <th>0</th>\n      <td>Alan D Rosenburg Cpa Pc</td>\n      <td>14 Taylor St</td>\n    </tr>\n    <tr>\n      <th>1</th>\n      <td>Cap Gemini America</td>\n      <td>5 Binney St</td>\n    </tr>\n    <tr>\n      <th>2</th>\n      <td>Elliott, John W Esq</td>\n      <td>8 Moor Place</td>\n    </tr>\n  </tbody>\n</table>\n</div>"
     },
     "execution_count": 18,
     "metadata": {},
     "output_type": "execute_result"
    }
   ],
   "source": [
    "df.iloc[0:3,2:4] #select data from row1 to row4, and column 3 and 4"
   ],
   "metadata": {
    "collapsed": false
   }
  },
  {
   "cell_type": "code",
   "execution_count": 19,
   "outputs": [],
   "source": [
    "# set index\n",
    "df.set_index('last_name',inplace=True)"
   ],
   "metadata": {
    "collapsed": false
   }
  },
  {
   "cell_type": "code",
   "execution_count": 20,
   "outputs": [
    {
     "data": {
      "text/plain": "           first_name             company_name            address  \\\nlast_name                                                           \nTomkiewicz    Aleshia  Alan D Rosenburg Cpa Pc       14 Taylor St   \nZigomalas        Evan       Cap Gemini America        5 Binney St   \nAndrade        France      Elliott, John W Esq       8 Moor Place   \nMcwalters     Ulysses           Mcmahan, Ben L      505 Exeter Rd   \nVeness         Tyisha           Champagne Room  5396 Forth Street   \n\n                                      city           county    postal  \\\nlast_name                                                               \nTomkiewicz               St. Stephens Ward             Kent   CT2 7PP   \nZigomalas                       Abbey Ward  Buckinghamshire  HP11 2AX   \nAndrade     East Southbourne and Tuckton W      Bournemouth   BH6 3BE   \nMcwalters               Hawerby cum Beesby     Lincolnshire  DN36 5RP   \nVeness          Greets Green and Lyng Ward    West Midlands   B70 9DT   \n\n                  phone1        phone2                       email  \\\nlast_name                                                            \nTomkiewicz  01835-703597  01944-369967     atomkiewicz@hotmail.com   \nZigomalas   01937-864715  01714-737668    evan.zigomalas@gmail.com   \nAndrade     01347-368222  01935-821636  france.andrade@hotmail.com   \nMcwalters   01912-771311  01302-601380         ulysses@hotmail.com   \nVeness      01547-429341  01290-367248   tyisha.veness@hotmail.com   \n\n                                             web   id  \nlast_name                                              \nTomkiewicz  http://www.alandrosenburgcpapc.co.uk  626  \nZigomalas      http://www.capgeminiamerica.co.uk  773  \nAndrade         http://www.elliottjohnwesq.co.uk  397  \nMcwalters           http://www.mcmahanbenl.co.uk  938  \nVeness            http://www.champagneroom.co.uk  162  ",
      "text/html": "<div>\n<style scoped>\n    .dataframe tbody tr th:only-of-type {\n        vertical-align: middle;\n    }\n\n    .dataframe tbody tr th {\n        vertical-align: top;\n    }\n\n    .dataframe thead th {\n        text-align: right;\n    }\n</style>\n<table border=\"1\" class=\"dataframe\">\n  <thead>\n    <tr style=\"text-align: right;\">\n      <th></th>\n      <th>first_name</th>\n      <th>company_name</th>\n      <th>address</th>\n      <th>city</th>\n      <th>county</th>\n      <th>postal</th>\n      <th>phone1</th>\n      <th>phone2</th>\n      <th>email</th>\n      <th>web</th>\n      <th>id</th>\n    </tr>\n    <tr>\n      <th>last_name</th>\n      <th></th>\n      <th></th>\n      <th></th>\n      <th></th>\n      <th></th>\n      <th></th>\n      <th></th>\n      <th></th>\n      <th></th>\n      <th></th>\n      <th></th>\n    </tr>\n  </thead>\n  <tbody>\n    <tr>\n      <th>Tomkiewicz</th>\n      <td>Aleshia</td>\n      <td>Alan D Rosenburg Cpa Pc</td>\n      <td>14 Taylor St</td>\n      <td>St. Stephens Ward</td>\n      <td>Kent</td>\n      <td>CT2 7PP</td>\n      <td>01835-703597</td>\n      <td>01944-369967</td>\n      <td>atomkiewicz@hotmail.com</td>\n      <td>http://www.alandrosenburgcpapc.co.uk</td>\n      <td>626</td>\n    </tr>\n    <tr>\n      <th>Zigomalas</th>\n      <td>Evan</td>\n      <td>Cap Gemini America</td>\n      <td>5 Binney St</td>\n      <td>Abbey Ward</td>\n      <td>Buckinghamshire</td>\n      <td>HP11 2AX</td>\n      <td>01937-864715</td>\n      <td>01714-737668</td>\n      <td>evan.zigomalas@gmail.com</td>\n      <td>http://www.capgeminiamerica.co.uk</td>\n      <td>773</td>\n    </tr>\n    <tr>\n      <th>Andrade</th>\n      <td>France</td>\n      <td>Elliott, John W Esq</td>\n      <td>8 Moor Place</td>\n      <td>East Southbourne and Tuckton W</td>\n      <td>Bournemouth</td>\n      <td>BH6 3BE</td>\n      <td>01347-368222</td>\n      <td>01935-821636</td>\n      <td>france.andrade@hotmail.com</td>\n      <td>http://www.elliottjohnwesq.co.uk</td>\n      <td>397</td>\n    </tr>\n    <tr>\n      <th>Mcwalters</th>\n      <td>Ulysses</td>\n      <td>Mcmahan, Ben L</td>\n      <td>505 Exeter Rd</td>\n      <td>Hawerby cum Beesby</td>\n      <td>Lincolnshire</td>\n      <td>DN36 5RP</td>\n      <td>01912-771311</td>\n      <td>01302-601380</td>\n      <td>ulysses@hotmail.com</td>\n      <td>http://www.mcmahanbenl.co.uk</td>\n      <td>938</td>\n    </tr>\n    <tr>\n      <th>Veness</th>\n      <td>Tyisha</td>\n      <td>Champagne Room</td>\n      <td>5396 Forth Street</td>\n      <td>Greets Green and Lyng Ward</td>\n      <td>West Midlands</td>\n      <td>B70 9DT</td>\n      <td>01547-429341</td>\n      <td>01290-367248</td>\n      <td>tyisha.veness@hotmail.com</td>\n      <td>http://www.champagneroom.co.uk</td>\n      <td>162</td>\n    </tr>\n  </tbody>\n</table>\n</div>"
     },
     "execution_count": 20,
     "metadata": {},
     "output_type": "execute_result"
    }
   ],
   "source": [
    "df.head(5)"
   ],
   "metadata": {
    "collapsed": false
   }
  },
  {
   "cell_type": "code",
   "execution_count": 21,
   "outputs": [
    {
     "data": {
      "text/plain": "          first_name        company_name      address        city  \\\nlast_name                                                           \nZigomalas       Evan  Cap Gemini America  5 Binney St  Abbey Ward   \n\n                    county    postal        phone1        phone2  \\\nlast_name                                                          \nZigomalas  Buckinghamshire  HP11 2AX  01937-864715  01714-737668   \n\n                              email                                web   id  \nlast_name                                                                    \nZigomalas  evan.zigomalas@gmail.com  http://www.capgeminiamerica.co.uk  773  ",
      "text/html": "<div>\n<style scoped>\n    .dataframe tbody tr th:only-of-type {\n        vertical-align: middle;\n    }\n\n    .dataframe tbody tr th {\n        vertical-align: top;\n    }\n\n    .dataframe thead th {\n        text-align: right;\n    }\n</style>\n<table border=\"1\" class=\"dataframe\">\n  <thead>\n    <tr style=\"text-align: right;\">\n      <th></th>\n      <th>first_name</th>\n      <th>company_name</th>\n      <th>address</th>\n      <th>city</th>\n      <th>county</th>\n      <th>postal</th>\n      <th>phone1</th>\n      <th>phone2</th>\n      <th>email</th>\n      <th>web</th>\n      <th>id</th>\n    </tr>\n    <tr>\n      <th>last_name</th>\n      <th></th>\n      <th></th>\n      <th></th>\n      <th></th>\n      <th></th>\n      <th></th>\n      <th></th>\n      <th></th>\n      <th></th>\n      <th></th>\n      <th></th>\n    </tr>\n  </thead>\n  <tbody>\n    <tr>\n      <th>Zigomalas</th>\n      <td>Evan</td>\n      <td>Cap Gemini America</td>\n      <td>5 Binney St</td>\n      <td>Abbey Ward</td>\n      <td>Buckinghamshire</td>\n      <td>HP11 2AX</td>\n      <td>01937-864715</td>\n      <td>01714-737668</td>\n      <td>evan.zigomalas@gmail.com</td>\n      <td>http://www.capgeminiamerica.co.uk</td>\n      <td>773</td>\n    </tr>\n  </tbody>\n</table>\n</div>"
     },
     "execution_count": 21,
     "metadata": {},
     "output_type": "execute_result"
    }
   ],
   "source": [
    "df.loc[['Zigomalas']]"
   ],
   "metadata": {
    "collapsed": false
   }
  },
  {
   "cell_type": "code",
   "execution_count": 22,
   "outputs": [
    {
     "data": {
      "text/plain": "           first_name\nlast_name            \nTomkiewicz    Aleshia\nZigomalas        Evan\nAndrade        France\nMcwalters     Ulysses\nVeness         Tyisha\n...               ...\nVeit            Avery\nEuresti          Reid\nBrenning    Charlette\nKeeny       Celestina\nRichan             Mi\n\n[500 rows x 1 columns]",
      "text/html": "<div>\n<style scoped>\n    .dataframe tbody tr th:only-of-type {\n        vertical-align: middle;\n    }\n\n    .dataframe tbody tr th {\n        vertical-align: top;\n    }\n\n    .dataframe thead th {\n        text-align: right;\n    }\n</style>\n<table border=\"1\" class=\"dataframe\">\n  <thead>\n    <tr style=\"text-align: right;\">\n      <th></th>\n      <th>first_name</th>\n    </tr>\n    <tr>\n      <th>last_name</th>\n      <th></th>\n    </tr>\n  </thead>\n  <tbody>\n    <tr>\n      <th>Tomkiewicz</th>\n      <td>Aleshia</td>\n    </tr>\n    <tr>\n      <th>Zigomalas</th>\n      <td>Evan</td>\n    </tr>\n    <tr>\n      <th>Andrade</th>\n      <td>France</td>\n    </tr>\n    <tr>\n      <th>Mcwalters</th>\n      <td>Ulysses</td>\n    </tr>\n    <tr>\n      <th>Veness</th>\n      <td>Tyisha</td>\n    </tr>\n    <tr>\n      <th>...</th>\n      <td>...</td>\n    </tr>\n    <tr>\n      <th>Veit</th>\n      <td>Avery</td>\n    </tr>\n    <tr>\n      <th>Euresti</th>\n      <td>Reid</td>\n    </tr>\n    <tr>\n      <th>Brenning</th>\n      <td>Charlette</td>\n    </tr>\n    <tr>\n      <th>Keeny</th>\n      <td>Celestina</td>\n    </tr>\n    <tr>\n      <th>Richan</th>\n      <td>Mi</td>\n    </tr>\n  </tbody>\n</table>\n<p>500 rows × 1 columns</p>\n</div>"
     },
     "execution_count": 22,
     "metadata": {},
     "output_type": "execute_result"
    }
   ],
   "source": [
    "df.loc[:,['first_name']]"
   ],
   "metadata": {
    "collapsed": false
   }
  },
  {
   "cell_type": "code",
   "execution_count": 23,
   "outputs": [
    {
     "data": {
      "text/plain": "           first_name             company_name       address  \\\nlast_name                                                      \nTomkiewicz    Aleshia  Alan D Rosenburg Cpa Pc  14 Taylor St   \nZigomalas        Evan       Cap Gemini America   5 Binney St   \n\n                         city           county    postal        phone1  \\\nlast_name                                                                \nTomkiewicz  St. Stephens Ward             Kent   CT2 7PP  01835-703597   \nZigomalas          Abbey Ward  Buckinghamshire  HP11 2AX  01937-864715   \n\n                  phone2                     email  \\\nlast_name                                            \nTomkiewicz  01944-369967   atomkiewicz@hotmail.com   \nZigomalas   01714-737668  evan.zigomalas@gmail.com   \n\n                                             web   id  \nlast_name                                              \nTomkiewicz  http://www.alandrosenburgcpapc.co.uk  626  \nZigomalas      http://www.capgeminiamerica.co.uk  773  ",
      "text/html": "<div>\n<style scoped>\n    .dataframe tbody tr th:only-of-type {\n        vertical-align: middle;\n    }\n\n    .dataframe tbody tr th {\n        vertical-align: top;\n    }\n\n    .dataframe thead th {\n        text-align: right;\n    }\n</style>\n<table border=\"1\" class=\"dataframe\">\n  <thead>\n    <tr style=\"text-align: right;\">\n      <th></th>\n      <th>first_name</th>\n      <th>company_name</th>\n      <th>address</th>\n      <th>city</th>\n      <th>county</th>\n      <th>postal</th>\n      <th>phone1</th>\n      <th>phone2</th>\n      <th>email</th>\n      <th>web</th>\n      <th>id</th>\n    </tr>\n    <tr>\n      <th>last_name</th>\n      <th></th>\n      <th></th>\n      <th></th>\n      <th></th>\n      <th></th>\n      <th></th>\n      <th></th>\n      <th></th>\n      <th></th>\n      <th></th>\n      <th></th>\n    </tr>\n  </thead>\n  <tbody>\n    <tr>\n      <th>Tomkiewicz</th>\n      <td>Aleshia</td>\n      <td>Alan D Rosenburg Cpa Pc</td>\n      <td>14 Taylor St</td>\n      <td>St. Stephens Ward</td>\n      <td>Kent</td>\n      <td>CT2 7PP</td>\n      <td>01835-703597</td>\n      <td>01944-369967</td>\n      <td>atomkiewicz@hotmail.com</td>\n      <td>http://www.alandrosenburgcpapc.co.uk</td>\n      <td>626</td>\n    </tr>\n    <tr>\n      <th>Zigomalas</th>\n      <td>Evan</td>\n      <td>Cap Gemini America</td>\n      <td>5 Binney St</td>\n      <td>Abbey Ward</td>\n      <td>Buckinghamshire</td>\n      <td>HP11 2AX</td>\n      <td>01937-864715</td>\n      <td>01714-737668</td>\n      <td>evan.zigomalas@gmail.com</td>\n      <td>http://www.capgeminiamerica.co.uk</td>\n      <td>773</td>\n    </tr>\n  </tbody>\n</table>\n</div>"
     },
     "execution_count": 23,
     "metadata": {},
     "output_type": "execute_result"
    }
   ],
   "source": [
    "df.loc[['Tomkiewicz','Zigomalas']]"
   ],
   "metadata": {
    "collapsed": false
   }
  },
  {
   "cell_type": "code",
   "execution_count": 25,
   "outputs": [
    {
     "data": {
      "text/plain": "           first_name             company_name\nlast_name                                     \nTomkiewicz    Aleshia  Alan D Rosenburg Cpa Pc\nZigomalas        Evan       Cap Gemini America",
      "text/html": "<div>\n<style scoped>\n    .dataframe tbody tr th:only-of-type {\n        vertical-align: middle;\n    }\n\n    .dataframe tbody tr th {\n        vertical-align: top;\n    }\n\n    .dataframe thead th {\n        text-align: right;\n    }\n</style>\n<table border=\"1\" class=\"dataframe\">\n  <thead>\n    <tr style=\"text-align: right;\">\n      <th></th>\n      <th>first_name</th>\n      <th>company_name</th>\n    </tr>\n    <tr>\n      <th>last_name</th>\n      <th></th>\n      <th></th>\n    </tr>\n  </thead>\n  <tbody>\n    <tr>\n      <th>Tomkiewicz</th>\n      <td>Aleshia</td>\n      <td>Alan D Rosenburg Cpa Pc</td>\n    </tr>\n    <tr>\n      <th>Zigomalas</th>\n      <td>Evan</td>\n      <td>Cap Gemini America</td>\n    </tr>\n  </tbody>\n</table>\n</div>"
     },
     "execution_count": 25,
     "metadata": {},
     "output_type": "execute_result"
    }
   ],
   "source": [
    "df.loc[['Tomkiewicz','Zigomalas'],['first_name','company_name']]"
   ],
   "metadata": {
    "collapsed": false
   }
  },
  {
   "cell_type": "code",
   "execution_count": 26,
   "outputs": [
    {
     "data": {
      "text/plain": "                 city           county    postal        phone1        phone2  \\\nlast_name                                                                      \nZigomalas  Abbey Ward  Buckinghamshire  HP11 2AX  01937-864715  01714-737668   \n\n                              email                                web  \nlast_name                                                               \nZigomalas  evan.zigomalas@gmail.com  http://www.capgeminiamerica.co.uk  ",
      "text/html": "<div>\n<style scoped>\n    .dataframe tbody tr th:only-of-type {\n        vertical-align: middle;\n    }\n\n    .dataframe tbody tr th {\n        vertical-align: top;\n    }\n\n    .dataframe thead th {\n        text-align: right;\n    }\n</style>\n<table border=\"1\" class=\"dataframe\">\n  <thead>\n    <tr style=\"text-align: right;\">\n      <th></th>\n      <th>city</th>\n      <th>county</th>\n      <th>postal</th>\n      <th>phone1</th>\n      <th>phone2</th>\n      <th>email</th>\n      <th>web</th>\n    </tr>\n    <tr>\n      <th>last_name</th>\n      <th></th>\n      <th></th>\n      <th></th>\n      <th></th>\n      <th></th>\n      <th></th>\n      <th></th>\n    </tr>\n  </thead>\n  <tbody>\n    <tr>\n      <th>Zigomalas</th>\n      <td>Abbey Ward</td>\n      <td>Buckinghamshire</td>\n      <td>HP11 2AX</td>\n      <td>01937-864715</td>\n      <td>01714-737668</td>\n      <td>evan.zigomalas@gmail.com</td>\n      <td>http://www.capgeminiamerica.co.uk</td>\n    </tr>\n  </tbody>\n</table>\n</div>"
     },
     "execution_count": 26,
     "metadata": {},
     "output_type": "execute_result"
    }
   ],
   "source": [
    "df.loc[df['first_name']=='Evan','city':'web']"
   ],
   "metadata": {
    "collapsed": false
   }
  },
  {
   "cell_type": "code",
   "execution_count": 28,
   "outputs": [],
   "source": [
    "df.loc[df['id']>500,['first_name']]='mm'"
   ],
   "metadata": {
    "collapsed": false
   }
  },
  {
   "cell_type": "code",
   "execution_count": 29,
   "outputs": [
    {
     "data": {
      "text/plain": "           first_name             company_name            address  \\\nlast_name                                                           \nTomkiewicz         mm  Alan D Rosenburg Cpa Pc       14 Taylor St   \nZigomalas          mm       Cap Gemini America        5 Binney St   \nAndrade        France      Elliott, John W Esq       8 Moor Place   \nMcwalters          mm           Mcmahan, Ben L      505 Exeter Rd   \nVeness         Tyisha           Champagne Room  5396 Forth Street   \n\n                                      city           county    postal  \\\nlast_name                                                               \nTomkiewicz               St. Stephens Ward             Kent   CT2 7PP   \nZigomalas                       Abbey Ward  Buckinghamshire  HP11 2AX   \nAndrade     East Southbourne and Tuckton W      Bournemouth   BH6 3BE   \nMcwalters               Hawerby cum Beesby     Lincolnshire  DN36 5RP   \nVeness          Greets Green and Lyng Ward    West Midlands   B70 9DT   \n\n                  phone1        phone2                       email  \\\nlast_name                                                            \nTomkiewicz  01835-703597  01944-369967     atomkiewicz@hotmail.com   \nZigomalas   01937-864715  01714-737668    evan.zigomalas@gmail.com   \nAndrade     01347-368222  01935-821636  france.andrade@hotmail.com   \nMcwalters   01912-771311  01302-601380         ulysses@hotmail.com   \nVeness      01547-429341  01290-367248   tyisha.veness@hotmail.com   \n\n                                             web   id  \nlast_name                                              \nTomkiewicz  http://www.alandrosenburgcpapc.co.uk  626  \nZigomalas      http://www.capgeminiamerica.co.uk  773  \nAndrade         http://www.elliottjohnwesq.co.uk  397  \nMcwalters           http://www.mcmahanbenl.co.uk  938  \nVeness            http://www.champagneroom.co.uk  162  ",
      "text/html": "<div>\n<style scoped>\n    .dataframe tbody tr th:only-of-type {\n        vertical-align: middle;\n    }\n\n    .dataframe tbody tr th {\n        vertical-align: top;\n    }\n\n    .dataframe thead th {\n        text-align: right;\n    }\n</style>\n<table border=\"1\" class=\"dataframe\">\n  <thead>\n    <tr style=\"text-align: right;\">\n      <th></th>\n      <th>first_name</th>\n      <th>company_name</th>\n      <th>address</th>\n      <th>city</th>\n      <th>county</th>\n      <th>postal</th>\n      <th>phone1</th>\n      <th>phone2</th>\n      <th>email</th>\n      <th>web</th>\n      <th>id</th>\n    </tr>\n    <tr>\n      <th>last_name</th>\n      <th></th>\n      <th></th>\n      <th></th>\n      <th></th>\n      <th></th>\n      <th></th>\n      <th></th>\n      <th></th>\n      <th></th>\n      <th></th>\n      <th></th>\n    </tr>\n  </thead>\n  <tbody>\n    <tr>\n      <th>Tomkiewicz</th>\n      <td>mm</td>\n      <td>Alan D Rosenburg Cpa Pc</td>\n      <td>14 Taylor St</td>\n      <td>St. Stephens Ward</td>\n      <td>Kent</td>\n      <td>CT2 7PP</td>\n      <td>01835-703597</td>\n      <td>01944-369967</td>\n      <td>atomkiewicz@hotmail.com</td>\n      <td>http://www.alandrosenburgcpapc.co.uk</td>\n      <td>626</td>\n    </tr>\n    <tr>\n      <th>Zigomalas</th>\n      <td>mm</td>\n      <td>Cap Gemini America</td>\n      <td>5 Binney St</td>\n      <td>Abbey Ward</td>\n      <td>Buckinghamshire</td>\n      <td>HP11 2AX</td>\n      <td>01937-864715</td>\n      <td>01714-737668</td>\n      <td>evan.zigomalas@gmail.com</td>\n      <td>http://www.capgeminiamerica.co.uk</td>\n      <td>773</td>\n    </tr>\n    <tr>\n      <th>Andrade</th>\n      <td>France</td>\n      <td>Elliott, John W Esq</td>\n      <td>8 Moor Place</td>\n      <td>East Southbourne and Tuckton W</td>\n      <td>Bournemouth</td>\n      <td>BH6 3BE</td>\n      <td>01347-368222</td>\n      <td>01935-821636</td>\n      <td>france.andrade@hotmail.com</td>\n      <td>http://www.elliottjohnwesq.co.uk</td>\n      <td>397</td>\n    </tr>\n    <tr>\n      <th>Mcwalters</th>\n      <td>mm</td>\n      <td>Mcmahan, Ben L</td>\n      <td>505 Exeter Rd</td>\n      <td>Hawerby cum Beesby</td>\n      <td>Lincolnshire</td>\n      <td>DN36 5RP</td>\n      <td>01912-771311</td>\n      <td>01302-601380</td>\n      <td>ulysses@hotmail.com</td>\n      <td>http://www.mcmahanbenl.co.uk</td>\n      <td>938</td>\n    </tr>\n    <tr>\n      <th>Veness</th>\n      <td>Tyisha</td>\n      <td>Champagne Room</td>\n      <td>5396 Forth Street</td>\n      <td>Greets Green and Lyng Ward</td>\n      <td>West Midlands</td>\n      <td>B70 9DT</td>\n      <td>01547-429341</td>\n      <td>01290-367248</td>\n      <td>tyisha.veness@hotmail.com</td>\n      <td>http://www.champagneroom.co.uk</td>\n      <td>162</td>\n    </tr>\n  </tbody>\n</table>\n</div>"
     },
     "execution_count": 29,
     "metadata": {},
     "output_type": "execute_result"
    }
   ],
   "source": [
    "df.head(5)"
   ],
   "metadata": {
    "collapsed": false
   }
  },
  {
   "cell_type": "code",
   "execution_count": null,
   "outputs": [],
   "source": [],
   "metadata": {
    "collapsed": false
   }
  }
 ],
 "metadata": {
  "kernelspec": {
   "display_name": "Python 3",
   "language": "python",
   "name": "python3"
  },
  "language_info": {
   "codemirror_mode": {
    "name": "ipython",
    "version": 2
   },
   "file_extension": ".py",
   "mimetype": "text/x-python",
   "name": "python",
   "nbconvert_exporter": "python",
   "pygments_lexer": "ipython2",
   "version": "2.7.6"
  }
 },
 "nbformat": 4,
 "nbformat_minor": 0
}
